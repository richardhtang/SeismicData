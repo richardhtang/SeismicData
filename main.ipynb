{
 "cells": [
  {
   "cell_type": "markdown",
   "id": "a5f77d4a004bc4ad",
   "metadata": {
    "collapsed": false
   },
   "source": [
    "## Exercise SEP Developer Test\n",
    "\n",
    "This test is designed to assess your ability to design and develop a project from a limited set of goals, provided below. We will evaluate your project based on its fulfillment of the outlined objectives, code efficiency, readability, and adherence to best practices. Additionally, we will evaluate the structure and content of your GitHub repository according to standard practices.\n",
    "\n",
    "1. Please perform all coding within the Google Colab environment: http://colab.research.google.com\n",
    "    * Please store your project in a GitHub repository, so we can fork and run it in Colab.\n",
    "        * Additionally, please create a standard GitHub repository with the expected files and directory structure.    \n",
    "    * Please note that Colab doesn't automatically include additional files. To avoid potential issues, we recommend only including files that the evaluators already have access to.    \n",
    "    * The evaluators will use the files SEP01.mseed, SEP02.mseed, and SEP03.mseed, which can be found in this GitHub project.\n",
    "2. Import the mseed files\n",
    "3. Create a database with proper normal form and constraints\n",
    "4. Import the data into the newly created database\n",
    "5. Create a visualization for the data. The visualization can be static but must include:    \n",
    "    * A title\n",
    "    * Text section displaying metadata about the miniseed data\n",
    "    * Helicorder-style charts of the miniseed data (These may be built from the database data or the mseed files)\n",
    "    * A map with icons indicating station locations based on the miniseed data (station lat and lon can be found on iris' API)\n",
    "    * Add to the map additional stations found on IRIS' data API. Stations of interest include HOA and SUG\n",
    "        * Data API information can be found at http://service.iris.edu/fdsnws/station/1/\n",
    "\n"
   ]
  },
  {
   "cell_type": "code",
   "execution_count": null,
   "id": "6d5f84f4c0a481d6",
   "metadata": {
    "collapsed": false
   },
   "outputs": [
    {
     "name": "stdout",
     "output_type": "stream",
     "text": [
      "Requirement already satisfied: obspy in /Users/rtang/.pyenv/versions/3.9.13/lib/python3.9/site-packages (1.4.1)\n",
      "Requirement already satisfied: cartopy in /Users/rtang/.pyenv/versions/3.9.13/lib/python3.9/site-packages (0.23.0)\n",
      "Requirement already satisfied: numpy>=1.20 in /Users/rtang/.pyenv/versions/3.9.13/lib/python3.9/site-packages (from obspy) (1.26.4)\n",
      "Requirement already satisfied: scipy>=1.7 in /Users/rtang/.pyenv/versions/3.9.13/lib/python3.9/site-packages (from obspy) (1.13.1)\n",
      "Requirement already satisfied: lxml in /Users/rtang/.pyenv/versions/3.9.13/lib/python3.9/site-packages (from obspy) (5.3.0)\n",
      "Requirement already satisfied: matplotlib>=3.3 in /Users/rtang/.pyenv/versions/3.9.13/lib/python3.9/site-packages (from obspy) (3.9.4)\n",
      "Requirement already satisfied: sqlalchemy<2 in /Users/rtang/.pyenv/versions/3.9.13/lib/python3.9/site-packages (from obspy) (1.4.54)\n",
      "Requirement already satisfied: decorator in /Users/rtang/.pyenv/versions/3.9.13/lib/python3.9/site-packages (from obspy) (5.1.1)\n",
      "Requirement already satisfied: requests in /Users/rtang/.pyenv/versions/3.9.13/lib/python3.9/site-packages (from obspy) (2.32.3)\n",
      "Requirement already satisfied: setuptools in /Users/rtang/.pyenv/versions/3.9.13/lib/python3.9/site-packages (from obspy) (58.1.0)\n",
      "Requirement already satisfied: shapely>=1.7 in /Users/rtang/.pyenv/versions/3.9.13/lib/python3.9/site-packages (from cartopy) (2.0.6)\n",
      "Requirement already satisfied: packaging>=20 in /Users/rtang/.pyenv/versions/3.9.13/lib/python3.9/site-packages (from cartopy) (24.1)\n",
      "Requirement already satisfied: pyproj>=3.3.1 in /Users/rtang/.pyenv/versions/3.9.13/lib/python3.9/site-packages (from cartopy) (3.6.1)\n",
      "Requirement already satisfied: pyshp>=2.3 in /Users/rtang/.pyenv/versions/3.9.13/lib/python3.9/site-packages (from cartopy) (2.3.1)\n",
      "Requirement already satisfied: python-dateutil>=2.7 in /Users/rtang/.pyenv/versions/3.9.13/lib/python3.9/site-packages (from matplotlib>=3.3->obspy) (2.9.0.post0)\n",
      "Requirement already satisfied: contourpy>=1.0.1 in /Users/rtang/.pyenv/versions/3.9.13/lib/python3.9/site-packages (from matplotlib>=3.3->obspy) (1.3.0)\n",
      "Requirement already satisfied: cycler>=0.10 in /Users/rtang/.pyenv/versions/3.9.13/lib/python3.9/site-packages (from matplotlib>=3.3->obspy) (0.12.1)\n",
      "Requirement already satisfied: importlib-resources>=3.2.0 in /Users/rtang/.pyenv/versions/3.9.13/lib/python3.9/site-packages (from matplotlib>=3.3->obspy) (6.4.5)\n",
      "Requirement already satisfied: fonttools>=4.22.0 in /Users/rtang/.pyenv/versions/3.9.13/lib/python3.9/site-packages (from matplotlib>=3.3->obspy) (4.55.3)\n",
      "Requirement already satisfied: pyparsing>=2.3.1 in /Users/rtang/.pyenv/versions/3.9.13/lib/python3.9/site-packages (from matplotlib>=3.3->obspy) (3.2.0)\n",
      "Requirement already satisfied: kiwisolver>=1.3.1 in /Users/rtang/.pyenv/versions/3.9.13/lib/python3.9/site-packages (from matplotlib>=3.3->obspy) (1.4.7)\n",
      "Requirement already satisfied: pillow>=8 in /Users/rtang/.pyenv/versions/3.9.13/lib/python3.9/site-packages (from matplotlib>=3.3->obspy) (10.3.0)\n",
      "Requirement already satisfied: certifi in /Users/rtang/.pyenv/versions/3.9.13/lib/python3.9/site-packages (from pyproj>=3.3.1->cartopy) (2024.6.2)\n",
      "Requirement already satisfied: charset-normalizer<4,>=2 in /Users/rtang/.pyenv/versions/3.9.13/lib/python3.9/site-packages (from requests->obspy) (3.3.2)\n",
      "Requirement already satisfied: idna<4,>=2.5 in /Users/rtang/.pyenv/versions/3.9.13/lib/python3.9/site-packages (from requests->obspy) (3.7)\n",
      "Requirement already satisfied: urllib3<3,>=1.21.1 in /Users/rtang/.pyenv/versions/3.9.13/lib/python3.9/site-packages (from requests->obspy) (2.2.1)\n",
      "Requirement already satisfied: zipp>=3.1.0 in /Users/rtang/.pyenv/versions/3.9.13/lib/python3.9/site-packages (from importlib-resources>=3.2.0->matplotlib>=3.3->obspy) (3.19.2)\n",
      "Requirement already satisfied: six>=1.5 in /Users/rtang/.pyenv/versions/3.9.13/lib/python3.9/site-packages (from python-dateutil>=2.7->matplotlib>=3.3->obspy) (1.16.0)\n",
      "\u001b[33mWARNING: You are using pip version 22.0.4; however, version 24.3.1 is available.\n",
      "You should consider upgrading via the '/Users/rtang/.pyenv/versions/3.9.13/bin/python3.9 -m pip install --upgrade pip' command.\u001b[0m\u001b[33m\n",
      "\u001b[0m2024-12-24 18:00:11 - INFO - Args: Namespace(input_dir='./SEP', db_file='seismic_data.db', helicorder_file='helicorder.png', map_file='map.png')\n",
      "2024-12-24 18:00:11 - INFO - Read file: SEP/SEP03.mseed\n",
      "2024-12-24 18:00:13 - INFO - Stream: 12 Trace(s) in Stream:\n",
      "CC.SEP.--.EHZ | 2023-11-25T00:00:00.000001Z - 2023-11-25T07:54:21.590001Z | 100.0 Hz, 2846160 samples\n",
      "CC.SEP.--.EHZ | 2023-11-25T07:55:19.600001Z - 2023-11-25T08:31:21.590001Z | 100.0 Hz, 216200 samples\n",
      "CC.SEP.--.EHZ | 2023-11-25T08:33:04.600001Z - 2023-11-25T15:51:13.590001Z | 100.0 Hz, 2628900 samples\n",
      "CC.SEP.--.EHZ | 2023-11-25T15:52:05.600001Z - 2023-11-25T16:11:04.590001Z | 100.0 Hz, 113900 samples\n",
      "CC.SEP.--.EHZ | 2023-11-25T16:11:07.600001Z - 2023-11-25T16:32:54.590001Z | 100.0 Hz, 130700 samples\n",
      "CC.SEP.--.EHZ | 2023-11-25T16:33:43.600001Z - 2023-11-25T16:51:18.590001Z | 100.0 Hz, 105500 samples\n",
      "CC.SEP.--.EHZ | 2023-11-25T16:51:39.600001Z - 2023-11-25T17:21:17.590001Z | 100.0 Hz, 177800 samples\n",
      "CC.SEP.--.EHZ | 2023-11-25T17:22:09.600001Z - 2023-11-25T17:54:47.590001Z | 100.0 Hz, 195800 samples\n",
      "CC.SEP.--.EHZ | 2023-11-25T17:55:35.600001Z - 2023-11-25T20:41:11.590001Z | 100.0 Hz, 993600 samples\n",
      "CC.SEP.--.EHZ | 2023-11-25T20:42:14.600001Z - 2023-11-25T21:42:03.590001Z | 100.0 Hz, 358900 samples\n",
      "CC.SEP.--.EHZ | 2023-11-25T21:42:16.600001Z - 2023-11-25T23:17:25.590001Z | 100.0 Hz, 570900 samples\n",
      "CC.SEP.--.EHZ | 2023-11-25T23:18:15.600001Z - 2023-11-26T00:00:00.000001Z | 100.0 Hz, 250441 samples\n",
      "2024-12-24 18:00:13 - INFO - Read file: SEP/SEP01.mseed\n",
      "2024-12-24 18:00:13 - INFO - Stream: 15 Trace(s) in Stream:\n",
      "CC.SEP.--.EHZ | 2023-11-11T00:00:00.000001Z - 2023-11-11T00:36:58.090001Z | 100.0 Hz, 221810 samples\n",
      "CC.SEP.--.EHZ | 2023-11-11T00:37:45.100001Z - 2023-11-11T01:41:06.090001Z | 100.0 Hz, 380100 samples\n",
      "CC.SEP.--.EHZ | 2023-11-11T01:43:07.100001Z - 2023-11-11T02:01:05.090001Z | 100.0 Hz, 107800 samples\n",
      "CC.SEP.--.EHZ | 2023-11-11T02:01:47.100001Z - 2023-11-11T02:02:10.090001Z | 100.0 Hz, 2300 samples\n",
      "CC.SEP.--.EHZ | 2023-11-11T02:02:24.100001Z - 2023-11-11T02:17:01.090001Z | 100.0 Hz, 87700 samples\n",
      "CC.SEP.--.EHZ | 2023-11-11T02:17:49.100001Z - 2023-11-11T02:31:16.090001Z | 100.0 Hz, 80700 samples\n",
      "CC.SEP.--.EHZ | 2023-11-11T02:31:37.100001Z - 2023-11-11T02:31:38.090001Z | 100.0 Hz, 100 samples\n",
      "CC.SEP.--.EHZ | 2023-11-11T02:31:40.100001Z - 2023-11-11T02:31:41.090001Z | 100.0 Hz, 100 samples\n",
      "CC.SEP.--.EHZ | 2023-11-11T02:31:43.100001Z - 2023-11-11T02:31:44.090001Z | 100.0 Hz, 100 samples\n",
      "CC.SEP.--.EHZ | 2023-11-11T02:31:59.100001Z - 2023-11-11T02:32:00.090001Z | 100.0 Hz, 100 samples\n",
      "CC.SEP.--.EHZ | 2023-11-11T02:32:02.100001Z - 2023-11-11T02:32:03.090001Z | 100.0 Hz, 100 samples\n",
      "CC.SEP.--.EHZ | 2023-11-11T02:32:05.100001Z - 2023-11-11T02:32:06.090001Z | 100.0 Hz, 100 samples\n",
      "CC.SEP.--.EHZ | 2023-11-11T02:32:20.100001Z - 2023-11-11T02:32:21.090001Z | 100.0 Hz, 100 samples\n",
      "CC.SEP.--.EHZ | 2023-11-11T02:32:23.100001Z - 2023-11-11T02:32:58.090001Z | 100.0 Hz, 3500 samples\n",
      "CC.SEP.--.EHZ | 2023-11-11T02:33:08.100001Z - 2023-11-12T00:00:00.000001Z | 100.0 Hz, 7721191 samples\n",
      "2024-12-24 18:00:13 - INFO - Read file: SEP/SEP02.mseed\n",
      "2024-12-24 18:00:14 - INFO - Stream: 5 Trace(s) in Stream:\n",
      "CC.SEP.--.EHZ | 2023-11-13T00:00:00.000000Z - 2023-11-13T03:20:48.890000Z | 100.0 Hz, 1204890 samples\n",
      "CC.SEP.--.EHZ | 2023-11-13T03:24:17.800000Z - 2023-11-13T03:24:46.790000Z | 100.0 Hz, 2900 samples\n",
      "CC.SEP.--.EHZ | 2023-11-13T03:24:47.400000Z - 2023-11-13T21:06:54.390000Z | 100.0 Hz, 6372700 samples\n",
      "CC.SEP.--.EHZ | 2023-11-13T21:09:23.100000Z - 2023-11-13T21:09:52.790000Z | 100.0 Hz, 2970 samples\n",
      "CC.SEP.--.EHZ | 2023-11-13T21:09:53.100000Z - 2023-11-14T00:00:00.000000Z | 100.0 Hz, 1020691 samples\n",
      "2024-12-24 18:00:14 - INFO - Insert data into database: seismic_data.db\n",
      "2024-12-24 18:00:14 - INFO - Insert data for stream: SEP01.mseed\n"
     ]
    }
   ],
   "source": [
    "# Install dependencies\n",
    "!pip install obspy cartopy"
   ]
  },
  {
   "cell_type": "code",
   "execution_count": null,
   "id": "6220c3ff",
   "metadata": {},
   "outputs": [],
   "source": [
    "# Run script\n",
    "!python seismic_data.py"
   ]
  }
 ],
 "metadata": {
  "kernelspec": {
   "display_name": "Python 3",
   "language": "python",
   "name": "python3"
  },
  "language_info": {
   "codemirror_mode": {
    "name": "ipython",
    "version": 3
   },
   "file_extension": ".py",
   "mimetype": "text/x-python",
   "name": "python",
   "nbconvert_exporter": "python",
   "pygments_lexer": "ipython3",
   "version": "3.9.13"
  }
 },
 "nbformat": 4,
 "nbformat_minor": 5
}
